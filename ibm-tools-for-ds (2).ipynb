ibm-tools-for-ds (2).ipynb
# Display the output
print("IBM tools for ds") 
https://eu-gb.dataplatform.cloud.ibm.com/analytics/notebooks/v2/86c2cbdd-64e1-4bc6-b075-3b78c84dc195/view?access_token=9fbeb4072f345ae5d367266003ea27a5c57c1fb41903057eb8a1bf77292d6216
